{
 "cells": [
  {
   "cell_type": "code",
   "execution_count": 14,
   "metadata": {},
   "outputs": [
    {
     "ename": "ImportError",
     "evalue": "cannot import name 'virtualhome' from 'virtualhome.src' (unknown location)",
     "output_type": "error",
     "traceback": [
      "\u001b[0;31m---------------------------------------------------------------------------\u001b[0m",
      "\u001b[0;31mImportError\u001b[0m                               Traceback (most recent call last)",
      "\u001b[1;32m/Users/lisaxy/ToolkenGPT/eval_vh.ipynb Cell 1\u001b[0m line \u001b[0;36m3\n\u001b[1;32m      <a href='vscode-notebook-cell:/Users/lisaxy/ToolkenGPT/eval_vh.ipynb#X11sZmlsZQ%3D%3D?line=0'>1</a>\u001b[0m \u001b[39mimport\u001b[39;00m \u001b[39mos\u001b[39;00m\n\u001b[1;32m      <a href='vscode-notebook-cell:/Users/lisaxy/ToolkenGPT/eval_vh.ipynb#X11sZmlsZQ%3D%3D?line=1'>2</a>\u001b[0m os\u001b[39m.\u001b[39mchdir(\u001b[39m\"\u001b[39m\u001b[39m..\u001b[39m\u001b[39m\"\u001b[39m)\n\u001b[0;32m----> <a href='vscode-notebook-cell:/Users/lisaxy/ToolkenGPT/eval_vh.ipynb#X11sZmlsZQ%3D%3D?line=2'>3</a>\u001b[0m \u001b[39mfrom\u001b[39;00m \u001b[39mvh_eval\u001b[39;00m \u001b[39mimport\u001b[39;00m \u001b[39m*\u001b[39m\n\u001b[1;32m      <a href='vscode-notebook-cell:/Users/lisaxy/ToolkenGPT/eval_vh.ipynb#X11sZmlsZQ%3D%3D?line=3'>4</a>\u001b[0m \u001b[39mimport\u001b[39;00m \u001b[39mjson\u001b[39;00m\n\u001b[1;32m      <a href='vscode-notebook-cell:/Users/lisaxy/ToolkenGPT/eval_vh.ipynb#X11sZmlsZQ%3D%3D?line=4'>5</a>\u001b[0m \u001b[39mwith\u001b[39;00m \u001b[39mopen\u001b[39m(\u001b[39m\"\u001b[39m\u001b[39mdata/vh/legal_test_v2.json\u001b[39m\u001b[39m\"\u001b[39m) \u001b[39mas\u001b[39;00m f:\n",
      "File \u001b[0;32m~/ToolkenGPT/vh_eval.py:5\u001b[0m\n\u001b[1;32m      3\u001b[0m sys\u001b[39m.\u001b[39mpath\u001b[39m.\u001b[39mappend(\u001b[39m'\u001b[39m\u001b[39mvirtualhome/src/virtualhome/simulation\u001b[39m\u001b[39m'\u001b[39m)\n\u001b[1;32m      4\u001b[0m \u001b[39m#import virtualhome\u001b[39;00m\n\u001b[0;32m----> 5\u001b[0m \u001b[39mimport\u001b[39;00m \u001b[39mvirtualhome\u001b[39;00m\u001b[39m.\u001b[39;00m\u001b[39msrc\u001b[39;00m\u001b[39m.\u001b[39;00m\u001b[39mvirtualhome\u001b[39;00m\u001b[39m.\u001b[39;00m\u001b[39msimulation\u001b[39;00m\u001b[39m.\u001b[39;00m\u001b[39mevolving_graph\u001b[39;00m\u001b[39m.\u001b[39;00m\u001b[39mutils\u001b[39;00m \u001b[39mas\u001b[39;00m \u001b[39mutils\u001b[39;00m\n\u001b[1;32m      6\u001b[0m \u001b[39mfrom\u001b[39;00m \u001b[39mvirtualhome\u001b[39;00m\u001b[39m.\u001b[39;00m\u001b[39msrc\u001b[39;00m\u001b[39m.\u001b[39;00m\u001b[39mvirtualhome\u001b[39;00m\u001b[39m.\u001b[39;00m\u001b[39msimulation\u001b[39;00m\u001b[39m.\u001b[39;00m\u001b[39mevolving_graph\u001b[39;00m\u001b[39m.\u001b[39;00m\u001b[39mscripts\u001b[39;00m \u001b[39mimport\u001b[39;00m \u001b[39m*\u001b[39m\n\u001b[1;32m      7\u001b[0m \u001b[39mfrom\u001b[39;00m \u001b[39mvirtualhome\u001b[39;00m\u001b[39m.\u001b[39;00m\u001b[39msrc\u001b[39;00m\u001b[39m.\u001b[39;00m\u001b[39mvirtualhome\u001b[39;00m\u001b[39m.\u001b[39;00m\u001b[39msimulation\u001b[39;00m\u001b[39m.\u001b[39;00m\u001b[39mevolving_graph\u001b[39;00m\u001b[39m.\u001b[39;00m\u001b[39mexecution\u001b[39;00m \u001b[39mimport\u001b[39;00m \u001b[39m*\u001b[39m\n",
      "\u001b[0;31mImportError\u001b[0m: cannot import name 'virtualhome' from 'virtualhome.src' (unknown location)"
     ]
    }
   ],
   "source": [
    "import os\n",
    "os.chdir(\"..\")\n",
    "from vh_eval import *\n",
    "import json\n",
    "with open(\"data/vh/legal_test_v2.json\") as f:\n",
    "    vh_file_list = json.load(f)"
   ]
  },
  {
   "cell_type": "code",
   "execution_count": 16,
   "metadata": {},
   "outputs": [],
   "source": [
    "import re\n",
    "from copy import deepcopy\n",
    "from collections import Counter\n",
    "from tqdm import *"
   ]
  },
  {
   "cell_type": "code",
   "execution_count": 17,
   "metadata": {},
   "outputs": [
    {
     "ename": "NameError",
     "evalue": "name 'utils' is not defined",
     "output_type": "error",
     "traceback": [
      "\u001b[0;31m---------------------------------------------------------------------------\u001b[0m",
      "\u001b[0;31mNameError\u001b[0m                                 Traceback (most recent call last)",
      "\u001b[1;32m/Users/lisaxy/ToolkenGPT/eval_vh.ipynb Cell 3\u001b[0m line \u001b[0;36m1\n\u001b[0;32m----> <a href='vscode-notebook-cell:/Users/lisaxy/ToolkenGPT/eval_vh.ipynb#W2sZmlsZQ%3D%3D?line=0'>1</a>\u001b[0m name_equivalence \u001b[39m=\u001b[39m utils\u001b[39m.\u001b[39mload_name_equivalence()\n",
      "\u001b[0;31mNameError\u001b[0m: name 'utils' is not defined"
     ]
    }
   ],
   "source": [
    "name_equivalence = utils.load_name_equivalence()"
   ]
  },
  {
   "cell_type": "code",
   "execution_count": 5,
   "metadata": {},
   "outputs": [],
   "source": [
    "func_dict = json.load(open(\"data/vh/func_dict.json\"))"
   ]
  },
  {
   "cell_type": "code",
   "execution_count": 6,
   "metadata": {},
   "outputs": [],
   "source": [
    "def check_results(script_path, graph_path, name_equivalence, script, verbose=False, prefix_match=False):\n",
    "    graph = json.load(open(graph_path))\n",
    "    graph_init = EnvironmentGraph(graph[\"init_graph\"])\n",
    "    graph_final = EnvironmentGraph(graph[\"final_graph\"])\n",
    "    executor = ScriptExecutor(graph_init, name_equivalence)\n",
    "    init_state = EnvironmentState(graph_init, name_equivalence)\n",
    "    final_state = EnvironmentState(graph_final, name_equivalence)\n",
    "    # desc = get_desc(graph_file_name=graph_path, script_file_name=script_path)\n",
    "    obj_list = set([n[\"class_name\"] for n in graph[\"init_graph\"][\"nodes\"]])\n",
    "    if len(obj_list) == 0:\n",
    "        return False, \"FAIL-EMPTY-STATE\"\n",
    "\n",
    "    if verbose:\n",
    "        print(\"input script len: \", len(script))\n",
    "    for cur_length in range(1 if prefix_match else len(script), len(script) + 1):\n",
    "        # print(stop_idx)\n",
    "        # try:\n",
    "        if verbose:\n",
    "            print(\"current length: \", cur_length)\n",
    "        try:\n",
    "            lines = []\n",
    "            for line_idx, line in enumerate(script[:cur_length]):\n",
    "                lines.append(parse_script_line(line, line_idx + 1))\n",
    "            # execute:\n",
    "            \n",
    "            actions = re.findall(\"\\[.*?\\]\", script[cur_length - 1])\n",
    "            objs = re.findall(\"<.*?>\", script[cur_length - 1])\n",
    "\n",
    "            if any([a not in func_dict for a in actions]):\n",
    "                if verbose:\n",
    "                    print(\"action not found\", script, get_desc(graph_file_name=graph_path, script_file_name=script_path))\n",
    "                return False, \"FAIL-ACTION-NOT-FOUND\"\n",
    "\n",
    "            if any([o[1:-1] not in obj_list for o in objs]):\n",
    "                if verbose:\n",
    "                    print(\"obj not found\", script, get_desc(graph_file_name=graph_path, script_file_name=script_path))\n",
    "                return False, \"FAIL-OBJ-NOT-FOUND\"\n",
    "\n",
    "            s = Script(lines)\n",
    "            c = verify_script(deepcopy(executor), s, init_state, final_state)\n",
    "            \n",
    "            if c['state']:\n",
    "                # print(\"success\")\n",
    "                # print(script[:stop_idx])\n",
    "                return True, \"\"\n",
    "            \n",
    "            elif \"failed\" in c['desc']:\n",
    "                # print(c['desc'])\n",
    "                # print(script[:stop_idx])\n",
    "                # fail += 1\n",
    "                # print(c['desc'])\n",
    "                \"\"\"\n",
    "                if \"cannot be found\" in c['desc']:\n",
    "                    if verbose:\n",
    "                        print(c['desc'], script, get_desc(graph_file_name=graph_path, script_file_name=script_path))\n",
    "                    return False, \"FAIL-OBJ-NOT-FOUND\"\n",
    "                if \"internal failed\" in c['desc'] and \"[FIND]\" in script[stop_idx - 1] and \"None\" in c[\"desc\"]:\n",
    "                    if verbose:\n",
    "                        print(c['desc'], script, get_desc(graph_file_name=graph_path, script_file_name=script_path))\n",
    "                    return False, \"FAIL-OBJ-NOT-FOUND\"\n",
    "                \"\"\"                \n",
    "\n",
    "                # print(c['desc'])\n",
    "                if verbose:\n",
    "                    print(c['desc'], script, get_desc(graph_file_name=graph_path, script_file_name=script_path))\n",
    "                return False, \"FAIL-INTERNAL-ERROR-!\"\n",
    "        \n",
    "        #    break\n",
    "        # if error\n",
    "\n",
    "\n",
    "        except Exception as e:\n",
    "            \n",
    "            if \"Wrong number of parameters\" in str(e):\n",
    "                if verbose:\n",
    "                    print(e, script, get_desc(graph_file_name=graph_path, script_file_name=script_path))\n",
    "\n",
    "                return False, \"FAIL-NUM-PARAMS\"\n",
    "                    \n",
    "            if \"Cannot parse action\" in str(e):\n",
    "                if verbose:\n",
    "                    print(script)\n",
    "                    print(e, script[stop_idx-1], get_desc(graph_file_name=graph_path, script_file_name=script_path))\n",
    "                return False, \"FAIL-PARSE-ACTION\"\n",
    "            if \"Unknown\" in str(e):\n",
    "                if verbose:\n",
    "                    print(e, script, get_desc(graph_file_name=graph_path, script_file_name=script_path))\n",
    "                return False, \"FAIL-UNKOWN\"\n",
    "            \n",
    "            if verbose:\n",
    "                print(e, script, get_desc(graph_file_name=graph_path, script_file_name=script_path))\n",
    "            # print(script[:stop_idx])\n",
    "            return False, \"FAIL-EXCEPTION-!\"\n",
    "        \n",
    "    if \"not correct\" in c['desc']:\n",
    "        # print(\"not correct\")\n",
    "        # nc += 1\n",
    "        # print(script[:stop_idx])\n",
    "        if verbose:\n",
    "            print(c['desc'], script, get_desc(graph_file_name=graph_path, script_file_name=script_path))\n",
    "        return False, \"FAIL-WRONG-STATE\"\n",
    "    \n",
    "    return False, \"FAIL-MISSED-!\""
   ]
  },
  {
   "cell_type": "code",
   "execution_count": null,
   "metadata": {},
   "outputs": [],
   "source": [
    "with open(\"outputs/vh/inference-13B-epoch_9-vh_embedding_inference-vh-10.0.jsonl\") as f:\n",
    "    embedding_outputs = [json.loads(line) for line in f.readlines()]"
   ]
  },
  {
   "cell_type": "code",
   "execution_count": null,
   "metadata": {},
   "outputs": [],
   "source": [
    "correct = 0\n",
    "correct_relax = 0\n",
    "fail = Counter()\n",
    "fail_relax = Counter()\n",
    "for test_idx in trange(len(embedding_outputs)):\n",
    "    # print(\"=\"*20)\n",
    "    # test_idx = 1\n",
    "    script_path = vh_file_list[test_idx][0]\n",
    "    graph_path = vh_file_list[test_idx][1]\n",
    "    # correct_count = 0\n",
    "    # baseline_script = baseline_outputs[test_idx][\"generation\"].replace(\">\", \"> (1)\").split(\"\\\\n\")[:15]\n",
    "    embedding_script = \"\\n\".join(embedding_outputs[test_idx][\"func_calls\"]).replace(\"]<\", \"] <\").replace(\">\", \"> (1)\").split(\"\\n\")[:8]\n",
    "    \n",
    "    for idx, e in enumerate(embedding_script):\n",
    "        if \"[END]\" in e:\n",
    "            embedding_script = embedding_script[:idx]\n",
    "            break\n",
    "    \n",
    "    # print(embedding_script)\n",
    "    # print(test_idx, len(embedding_script))\n",
    "    cor, reason = check_results(script_path, graph_path, name_equivalence, embedding_script, verbose=False, prefix_match=False)\n",
    "    cor_relax, reason_relax = check_results(script_path, graph_path, name_equivalence, embedding_script, verbose=False, prefix_match=True)\n",
    "    if not cor_relax:\n",
    "        fail_relax[reason_relax] += 1\n",
    "    else:\n",
    "        correct_relax += 1\n",
    "\n",
    "    if not cor:\n",
    "    #     check_results(script_path, graph_path, name_equivalence, embedding_script, verbose=True)\n",
    "        fail[reason] += 1\n",
    "    else:\n",
    "        correct += 1\n",
    "    # break"
   ]
  },
  {
   "cell_type": "code",
   "execution_count": null,
   "metadata": {},
   "outputs": [],
   "source": [
    "print(\"correct\", correct, len(embedding_outputs), correct/len(embedding_outputs))\n",
    "for k, v in fail.items():\n",
    "    print(k, v, len(embedding_outputs), v/len(embedding_outputs))\n",
    "\n",
    "print(\"=\"*60)\n",
    "\n",
    "print(\"correct\", correct_relax, len(embedding_outputs), correct_relax/len(embedding_outputs))\n",
    "for k, v in fail_relax.items():\n",
    "    print(k, v, len(embedding_outputs), v/len(embedding_outputs))"
   ]
  }
 ],
 "metadata": {
  "kernelspec": {
   "display_name": "llama",
   "language": "python",
   "name": "python3"
  },
  "language_info": {
   "codemirror_mode": {
    "name": "ipython",
    "version": 3
   },
   "file_extension": ".py",
   "mimetype": "text/x-python",
   "name": "python",
   "nbconvert_exporter": "python",
   "pygments_lexer": "ipython3",
   "version": "3.11.3"
  },
  "orig_nbformat": 4
 },
 "nbformat": 4,
 "nbformat_minor": 2
}
