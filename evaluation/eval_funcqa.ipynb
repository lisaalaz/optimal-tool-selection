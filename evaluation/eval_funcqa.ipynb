{
 "cells": [
  {
   "cell_type": "code",
   "execution_count": 1,
   "metadata": {},
   "outputs": [],
   "source": [
    "import os\n",
    "os.chdir(\"..\")\n",
    "\n",
    "from funchub.math import custom_round\n",
    "import re\n",
    "\n",
    "def parse_answer(answer, pattern:str=\"####\"):\n",
    "    if pattern==\"####\":\n",
    "        answer = answer.split(\"####\")[-1]\n",
    "        answer = answer.strip().strip(\"\\n\").strip('\\\\n')\n",
    "        # 32,333 -> 32333\n",
    "        answer = answer.replace(\",\", \"\")\n",
    "\n",
    "        # get the last number\n",
    "        try:\n",
    "            answer = re.findall(r\"[-+]?\\d*\\.\\d+|\\d+\", answer)[-1]\n",
    "        except:\n",
    "            answer = 0\n",
    "    elif pattern==\"answer is\":\n",
    "        answer = answer.split(\"answer is\")[-1]\n",
    "        answer = answer.strip().strip(\"\\n\").strip('\\\\n')\n",
    "\n",
    "        # 32,333 -> 32333\n",
    "        answer = answer.replace(\",\", \"\")\n",
    "\n",
    "        # get the last number\n",
    "        try:\n",
    "            answer = re.findall(r\"[-+]?\\d*\\.\\d+|\\d+\", answer)[-1]\n",
    "        except:\n",
    "            answer = 0\n",
    "\n",
    "    return answer\n",
    "\n",
    "def accuracy(pred, true, type = \"exact\"):\n",
    "    if len(pred) < len(true):\n",
    "        true = true[:len(pred)]\n",
    "\n",
    "    correct = 0\n",
    "    for p, t in zip(pred, true):\n",
    "        try:\n",
    "            if type == \"exact\":\n",
    "                if float(p) == float(t):\n",
    "                    correct += 1\n",
    "            elif type == \"round\":\n",
    "                if round(float(p), 2) == custom_round(float(t), 2):\n",
    "                    correct += 1\n",
    "            elif type == \"approx\":\n",
    "                # 1% error tolerance, e.g. 1000 -> 990 ~ 1010\n",
    "                if abs(float(p) - float(t)) <= abs(float(t)) * 0.001:\n",
    "                    correct += 1\n",
    "        except ValueError:\n",
    "            pass\n",
    "    \n",
    "    return correct / len(pred)"
   ]
  },
  {
   "cell_type": "code",
   "execution_count": 8,
   "metadata": {},
   "outputs": [
    {
     "name": "stdout",
     "output_type": "stream",
     "text": [
      "['19.6', '24.96', '45.88', '100000000']\n",
      "['32.38', '43.5694625', '92.256', '1556750.9']\n",
      "Accuracy:  0.0\n"
     ]
    }
   ],
   "source": [
    "import json\n",
    "\n",
    "target_path = \"data/funcqa/funcqa_mh.json\"\n",
    "eval_path = \"outputs/funcqa_mh/inference-7B-None-baseline-funcqa_mh-0.jsonl\"\n",
    "\n",
    "\n",
    "with open(target_path, \"r\") as f:\n",
    "    data = json.load(f)\n",
    "\n",
    "answer = [d[\"answer\"] for d in data]\n",
    "\n",
    "with open(eval_path, \"r\") as f:\n",
    "    data = [json.loads(line) for line in f]\n",
    "\n",
    "pred = [parse_answer(d[\"generation\"], pattern=\"####\") for d in data]\n",
    "\n",
    "print(pred)\n",
    "print(answer[:len(pred)])\n",
    "\n",
    "print(\"Accuracy: \", accuracy(pred, answer[:len(pred)], type=\"approx\"))"
   ]
  },
  {
   "cell_type": "code",
   "execution_count": 9,
   "metadata": {},
   "outputs": [
    {
     "name": "stdout",
     "output_type": "stream",
     "text": [
      "Accuracy:  0.5\n"
     ]
    }
   ],
   "source": [
    "dummmy_answer = ['32.3799', '43', '100', '1556750']\n",
    "\n",
    "print(\"Accuracy: \", accuracy(dummmy_answer, answer[:len(dummmy_answer)], type=\"approx\"))"
   ]
  }
 ],
 "metadata": {
  "kernelspec": {
   "display_name": "table2text",
   "language": "python",
   "name": "python3"
  },
  "language_info": {
   "codemirror_mode": {
    "name": "ipython",
    "version": 3
   },
   "file_extension": ".py",
   "mimetype": "text/x-python",
   "name": "python",
   "nbconvert_exporter": "python",
   "pygments_lexer": "ipython3",
   "version": "3.9.13"
  },
  "orig_nbformat": 4
 },
 "nbformat": 4,
 "nbformat_minor": 2
}
